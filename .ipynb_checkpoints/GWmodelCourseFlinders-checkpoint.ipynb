{
 "cells": [
  {
   "cell_type": "markdown",
   "metadata": {},
   "source": [
    "# Groundwater modelling course Flinders 13/9\n",
    "## Introduction\n",
    "This notebook has some interactive demos to complement the groundwater modelling course at Flinders Uni on Monday 13/9. The demos focus on calibration. The code blocks show the Python code underpinning the demos, but no experience or knowledge of Python is required to run the demos."
   ]
  },
  {
   "cell_type": "code",
   "execution_count": 1,
   "metadata": {},
   "outputs": [],
   "source": [
    "# preamble - load required packages\n",
    "import numpy as np\n",
    "from scipy.special import exp1\n",
    "import matplotlib.pyplot as plt\n",
    "import ipywidgets as widgets\n",
    "from ipywidgets import interact, interact_manual\n",
    "%matplotlib inline"
   ]
  },
  {
   "cell_type": "markdown",
   "metadata": {},
   "source": [
    "## Demo 1: Groundwater mounding\n",
    "\n",
    "<img src=\"https://ngwa.onlinelibrary.wiley.com/cms/asset/cf794179-a2e4-4157-bee5-e55f494ce132/gwat12880-fig-0001-m.jpg\" width=\"500\"/>\n",
    "\n",
    "[Peeters, L. J. M., Turnadge, C., 2019. When to Account for Boundary Conditions in Estimating Hydraulic Properties from Head Observations? Groundwater, Groundwater 57, 351–355. https://doi.org/10.1111/gwat.12880\n",
    "](https://ngwa.onlinelibrary.wiley.com/doi/full/10.1111/gwat.12880)\n",
    "\n",
    "Consider an unconfined aquifer with a groundwater divide at distance $x=0 m$ and a constant head boundary at distance $x=L m$. The constant head represents a river with the elevation of the riverbed $d_a$ and river stage $h_L$. Due to recharge $R$ a groundwater mound will be created, and the shape of this mound depends on the hydraulic conductivity $K_a$:\n",
    "\n",
    "$ h(x)=\\sqrt{\\frac{R}{K_a}(L^2-x^2)+(d_a+h_L)^2}$\n",
    "\n",
    "The interactive plot below allows you to explore the influence of the various input parameters on the shape of the groundwater mound"
   ]
  },
  {
   "cell_type": "code",
   "execution_count": 3,
   "metadata": {},
   "outputs": [
    {
     "data": {
      "application/vnd.jupyter.widget-view+json": {
       "model_id": "e940c09bf80f4a1f99bfcd0b8dca3c4b",
       "version_major": 2,
       "version_minor": 0
      },
      "text/plain": [
       "interactive(children=(IntSlider(value=50, description='R', min=10, step=10), FloatSlider(value=0.0, descriptio…"
      ]
     },
     "metadata": {},
     "output_type": "display_data"
    }
   ],
   "source": [
    "def gwmound(R,K,hL,da,L):\n",
    "    x = np.linspace(0,L,1000)\n",
    "    W = R/K\n",
    "    h = np.sqrt(W*(L**2 - x**2)+(hL+da)**2)\n",
    "    return(x,h)\n",
    "def gwmound_x(R,K,hL,da,L,x):\n",
    "    W = R/K\n",
    "    h = np.sqrt(W*(L**2 - x**2)+(hL+da)**2)\n",
    "    return(h)\n",
    "def gwmoundplot(R,logK,hL,da,L):\n",
    "    R = R/365250\n",
    "    K = 10**logK\n",
    "    x0,h0 = gwmound(50/365250,1,1,15,5000)\n",
    "    x,h = gwmound(R,K,hL,da,L)\n",
    "    plt.figure(figsize=(10,5))\n",
    "    plt.plot(x0,h0,'-b',linewidth=2,label='Reference')\n",
    "    plt.plot(x,h,'--r',linewidth=2,label='Update')\n",
    "    plt.xlim(0,1e4)\n",
    "    plt.ylim(0,100)\n",
    "    plt.xlabel('Distance from waterdivide (m)')\n",
    "    plt.ylabel('Groundwater level (m)')\n",
    "    plt.legend()\n",
    "    plt.show()\n",
    "a = interact(gwmoundplot,\n",
    "            R=(10,100,10),\n",
    "            logK=(-1,1,0.2),\n",
    "            hL=(0.,2,0.25),\n",
    "            da=(5,25,2.5),\n",
    "            L=(1000,1e4,1000))"
   ]
  },
  {
   "cell_type": "markdown",
   "metadata": {},
   "source": [
    "### Calibration and Prediction\n",
    "##### 1. Prediction @ 2500m from river, observation @ 250m from river\n",
    "The prediction we are making is at 2500m from the river boundary. The only observation we have is at 250m from the river, with a measurement of 20.5 m asl. The measurement has a confidence bound of 50 cm. The distance between groundwater divide and river is 5000m, da = 15m and hL = 1m.\n",
    "\n",
    "Adjust the values of R and K so the simulated groundwater level is within the measurement error. What are the ranges of R and K that correspond to the measurement? What is the range of the prediction of groundwater level at 2500m?"
   ]
  },
  {
   "cell_type": "code",
   "execution_count": 13,
   "metadata": {},
   "outputs": [
    {
     "data": {
      "application/vnd.jupyter.widget-view+json": {
       "model_id": "1d00ece211a34d36b1fa71c426a2351f",
       "version_major": 2,
       "version_minor": 0
      },
      "text/plain": [
       "interactive(children=(FloatSlider(value=55.0, description='R', min=10.0, step=2.5), FloatSlider(value=0.0, des…"
      ]
     },
     "metadata": {},
     "output_type": "display_data"
    }
   ],
   "source": [
    "def calibplot_1(R,logK):\n",
    "    R = R/365250\n",
    "    K = 10**logK\n",
    "    x0,h0 = gwmound(55/365250,1,1,15,5000)\n",
    "    x,h = gwmound(R,K,1,15,5000)\n",
    "    xpred = 2500\n",
    "    hpred = gwmound_x(R,K,1,15,5000,xpred)\n",
    "    plt.figure(figsize=(10,5))\n",
    "    plt.vlines(4750,20,21,'k',linewidth=3)\n",
    "    #plt.vlines(4250,26.5,27.5,'k',linewidth=3)\n",
    "    plt.plot(x0,h0,'-b',linewidth=2,label='Reference')\n",
    "    plt.plot(x,h,'--r',linewidth=2,label='Update')\n",
    "    plt.plot(xpred,hpred,'or',label='Prediction')\n",
    "    plt.text(xpred,hpred,' h=%3.2f m ' % hpred,fontsize='large')\n",
    "    plt.xlim(2000,5000)\n",
    "    #plt.ylim(16,40)\n",
    "    plt.xlabel('Distance from waterdivide (m)')\n",
    "    plt.ylabel('Groundwater level (m)')\n",
    "    plt.show()\n",
    "b = interact_manual(calibplot_1,\n",
    "            R=(10,100,2.5),\n",
    "            logK=(-1,1,0.025))"
   ]
  },
  {
   "cell_type": "markdown",
   "metadata": {},
   "source": [
    "##### 2. Prediction @ 2500m from river, observation @ 750m from river\n",
    "\n",
    "The same system and prediction, but the observation well is now at 750 m from the river and has a measurement of 27 m asl (with 50 cm confidence bound). \n",
    "\n",
    "What are the ranges of R and K that correspond to the measurement? What is the range of the prediction of groundwater level at 2500m?"
   ]
  },
  {
   "cell_type": "code",
   "execution_count": 14,
   "metadata": {},
   "outputs": [
    {
     "data": {
      "application/vnd.jupyter.widget-view+json": {
       "model_id": "",
       "version_major": 2,
       "version_minor": 0
      },
      "text/plain": [
       "interactive(children=(FloatSlider(value=55.0, description='R', min=10.0, step=2.5), FloatSlider(value=0.0, des…"
      ]
     },
     "metadata": {},
     "output_type": "display_data"
    }
   ],
   "source": [
    "def calibplot_2(R,logK):\n",
    "    R = R/365250\n",
    "    K = 10**logK\n",
    "    x0,h0 = gwmound(55/365250,1,1,15,5000)\n",
    "    x,h = gwmound(R,K,1,15,5000)\n",
    "    xpred = 2500\n",
    "    hpred = gwmound_x(R,K,1,15,5000,xpred)\n",
    "    plt.figure(figsize=(10,5))\n",
    "    #plt.vlines(4750,20,21,'k',linewidth=3)\n",
    "    plt.vlines(4250,26.5,27.5,'k',linewidth=3)\n",
    "    plt.plot(x0,h0,'-b',linewidth=2,label='Reference')\n",
    "    plt.plot(x,h,'--r',linewidth=2,label='Update')\n",
    "    plt.plot(xpred,hpred,'or',label='Prediction')\n",
    "    plt.text(xpred,hpred,' h=%3.2f m ' % hpred,fontsize='large')\n",
    "    plt.xlim(2000,5000)\n",
    "    #plt.ylim(16,40)\n",
    "    plt.xlabel('Distance from waterdivide (m)')\n",
    "    plt.ylabel('Groundwater level (m)')\n",
    "    plt.show()\n",
    "b = interact_manual(calibplot_2,\n",
    "            R=(10,100,2.5),\n",
    "            logK=(-1,1,0.025))"
   ]
  },
  {
   "cell_type": "markdown",
   "metadata": {},
   "source": [
    "#### 3. L = 3000m\n",
    "The estimate of the distance to the groundwater divide was wrong. It is 3000 m instead of 5000 m. How does this change the results?"
   ]
  },
  {
   "cell_type": "code",
   "execution_count": 15,
   "metadata": {},
   "outputs": [
    {
     "data": {
      "application/vnd.jupyter.widget-view+json": {
       "model_id": "e5422178b45547f5bae4a1db123d66dc",
       "version_major": 2,
       "version_minor": 0
      },
      "text/plain": [
       "interactive(children=(FloatSlider(value=55.0, description='R', min=10.0, step=2.5), FloatSlider(value=0.0, des…"
      ]
     },
     "metadata": {},
     "output_type": "display_data"
    }
   ],
   "source": [
    "def calibplot_2(R,logK):\n",
    "    R = R/365250\n",
    "    K = 10**logK\n",
    "    x0,h0 = gwmound(55/365250,1,1,15,3000)\n",
    "    x,h = gwmound(R,K,1,15,3000)\n",
    "    xpred = 500\n",
    "    hpred = gwmound_x(R,K,1,15,3000,xpred)\n",
    "    plt.figure(figsize=(10,5))\n",
    "    #plt.vlines(4750,20,21,'k',linewidth=3)\n",
    "    plt.vlines(2250,26.5,27.5,'k',linewidth=3)\n",
    "    plt.plot(x0,h0,'-b',linewidth=2,label='Reference')\n",
    "    plt.plot(x,h,'--r',linewidth=2,label='Update')\n",
    "    plt.plot(xpred,hpred,'or',label='Prediction')\n",
    "    plt.text(xpred,hpred,' h=%3.2f m ' % hpred,fontsize='large')\n",
    "    plt.xlim(0,3000)\n",
    "    #plt.ylim(16,40)\n",
    "    plt.xlabel('Distance from waterdivide (m)')\n",
    "    plt.ylabel('Groundwater level (m)')\n",
    "    plt.show()\n",
    "b = interact_manual(calibplot_2,\n",
    "            R=(10,100,2.5),\n",
    "            logK=(-1,1,0.025))"
   ]
  }
 ],
 "metadata": {
  "kernelspec": {
   "display_name": "Python 3",
   "language": "python",
   "name": "python3"
  },
  "language_info": {
   "codemirror_mode": {
    "name": "ipython",
    "version": 3
   },
   "file_extension": ".py",
   "mimetype": "text/x-python",
   "name": "python",
   "nbconvert_exporter": "python",
   "pygments_lexer": "ipython3",
   "version": "3.8.5"
  }
 },
 "nbformat": 4,
 "nbformat_minor": 4
}
